{
 "cells": [
  {
   "cell_type": "markdown",
   "id": "f4799295",
   "metadata": {},
   "source": [
    "# Kalia Sante"
   ]
  },
  {
   "cell_type": "markdown",
   "id": "59ac5969",
   "metadata": {},
   "source": [
    "## Submitted by : Ipsita Sahoo"
   ]
  },
  {
   "cell_type": "markdown",
   "id": "789ec068",
   "metadata": {},
   "source": [
    "## Password Manager"
   ]
  },
  {
   "cell_type": "markdown",
   "id": "d1d3bc8d",
   "metadata": {},
   "source": [
    "DESCRIPTION\n",
    "\n",
    "Zara is developing a new version of password manager. Earlier, she was using some third-party password manager but she figured out that it can't keep track of all the passwords which have been set for the respective account. As she is very concerned about the security, she decided to develop her own version of the password manager\n",
    "\n",
    "\n",
    "Objective: To develop a custom password manager using Python\n",
    "\n",
    "Domain:  Security\n",
    "Steps to perform:\n",
    "\n",
    "1.\tImplement the following design\n",
    "\n",
    "class BasePasswordManager\n",
    "    \n",
    "members\n",
    "        \n",
    "    old_passwords: is a list that holds all of the user's past passwords.The last item of the list is the user's current password.\n",
    "    \n",
    "methods\n",
    "        \n",
    "    get_password method that returns the current password as a string.\n",
    " \n",
    "        \n",
    "        is_correct method that receives a string and returns a boolean\n",
    "             True or False depending on whether the string is equal to\n",
    "             the current password or not.\n",
    " \n",
    "\n",
    "class PasswordManager\n",
    "    \n",
    "This class inherits from BasePasswordManager\n",
    " \n",
    "        \n",
    "    methods\n",
    "        \n",
    "        set_password method that sets the user's password.\n",
    "             \n",
    "        Password change is successful only if: \n",
    "                    \n",
    "             - Security level of the new password is greater.\n",
    "                    \n",
    "             - Length of new password is minimum 6\n",
    " \n",
    "             \n",
    "                    However, if the old password already has the highest security level,\n",
    "                      a new password must be of the highest security level for a successful password change.\n",
    " \n",
    "        \n",
    "        get_level method that returns the security level of the current password.\n",
    "             \n",
    "            It can also check and return the security level of a new password passed as a string.\n",
    "\n",
    "                 Security levels:\n",
    "\n",
    "                  level 0 - password consists of alphabets or numbers only.\n",
    "\n",
    "                  level 1 - Alphanumeric passwords.\n",
    "\n",
    "                  level 2 - Alphanumeric passwords with special characters.\n"
   ]
  },
  {
   "cell_type": "code",
   "execution_count": 1,
   "id": "d6e536be",
   "metadata": {
    "scrolled": true
   },
   "outputs": [],
   "source": [
    "class BasePasswordManager:\n",
    "    old_passwords = []\n",
    "    old_passwords = ['jagannatha']\n",
    "    \n",
    "    def __init__(self):\n",
    "        pass\n",
    "    \n",
    "    def get_password(self):\n",
    "        try:\n",
    "            return self.old_passwords[-1]\n",
    "        except IndexError as e:\n",
    "            print('No passwords are set, please register your first password')\n",
    "            print('Error found as: '+repr(e))\n",
    "            return -1\n",
    "        \n",
    "    def is_correct(self,entered_password):\n",
    "            return entered_password == self.get_password()\n",
    "#         print('You must create a password first then match')\n",
    "        "
   ]
  },
  {
   "cell_type": "code",
   "execution_count": 2,
   "id": "f2c60309",
   "metadata": {
    "scrolled": true
   },
   "outputs": [],
   "source": [
    "import regex as re\n",
    "import string\n",
    "special = string.punctuation"
   ]
  },
  {
   "cell_type": "code",
   "execution_count": 3,
   "id": "185dd055",
   "metadata": {
    "scrolled": true
   },
   "outputs": [],
   "source": [
    "class PasswordManager(BasePasswordManager):\n",
    "    \n",
    "    security_level =[0,1,2]\n",
    "    \n",
    "    def __init__(self):\n",
    "        pass\n",
    "    \n",
    "    def set_password(self,new_password_option):\n",
    "        if len(new_password_option) >= 6:\n",
    "            if (not len(self.old_passwords)):\n",
    "                self.old_passwords.append(new_password_option)\n",
    "                print('\\npassword set successfully')\n",
    "            elif (self.get_level() == self.security_level[-1]):\n",
    "                if (self.get_level(new_password_option) == self.security_level[-1]):\n",
    "                    self.old_passwords.append(new_password_option)\n",
    "                    print('\\npassword set successfully')\n",
    "                else:\n",
    "                    print('''\\nNote:\n",
    "                    As the older password has the highest security level \n",
    "                    the password you want to set also needs to be of the highest level''')\n",
    "            elif (self.get_level() < self.get_level(new_password_option)):\n",
    "                self.old_passwords.append(new_password_option)\n",
    "                print('password set successfully')\n",
    "            else:\n",
    "                print('''\\nNote:\n",
    "                As the pssword you re suggesting does not have \n",
    "                higher security level than the previous password\n",
    "                the password cannot be updated! The newer password must be \n",
    "                of greater security level than older. If the older password\n",
    "                is at highest security the new one must also be of highest\n",
    "                security level''')\n",
    "        else:\n",
    "            print('\\nNote:The password should be of atleast 6 characters')\n",
    "        \n",
    "       \n",
    "    def get_level(self,str = ''):  # I want to make a call here\n",
    "        \n",
    "        if str == '':\n",
    "            str = self.get_password()\n",
    "            \n",
    "        if re.search(' ',str):\n",
    "            print('Password can only contain Alphabets, Numeric Digits and Special Characters.')\n",
    "            return -1;\n",
    "        \n",
    "        flag = True             # flag for all special\n",
    "        flag1 = False;          # flag for atleast 1 special but not all special\n",
    "        flaga = False           # flag for all alphabets\n",
    "        flagn = False;          # flag for all numeric\n",
    "        \n",
    "        for i in str:\n",
    "            if i not in special:\n",
    "                flag = False\n",
    "                break;\n",
    "                \n",
    "        if not flag:\n",
    "            for i in str:\n",
    "                if i in special:\n",
    "                    flag1 = True\n",
    "                    break;\n",
    "                    \n",
    "        if (len(re.findall('[a-zA-Z]',str))):\n",
    "            flaga = True\n",
    "            \n",
    "        if (len(re.findall('[0-9]',str))):\n",
    "            flagn = True\n",
    "            \n",
    "        if str.isdecimal() or str.isalpha() or flag:\n",
    "            print('level is 0')\n",
    "            return 0\n",
    "        elif(flag1 and flaga and flagn):\n",
    "            print('level is 2 highest')\n",
    "            return 2\n",
    "        elif (str.isalnum()) or (flaga and flag1) or (flagn and flag1):\n",
    "            print('level is 1')\n",
    "            return 1\n",
    "        else:\n",
    "            print('Something is worng with your password suggestion level is -1')\n",
    "            return -1"
   ]
  },
  {
   "cell_type": "code",
   "execution_count": 4,
   "id": "f75ff065",
   "metadata": {
    "scrolled": true
   },
   "outputs": [
    {
     "data": {
      "text/plain": [
       "(False, False, True)"
      ]
     },
     "execution_count": 4,
     "metadata": {},
     "output_type": "execute_result"
    }
   ],
   "source": [
    "'jagannatha8'.isdecimal(),'jagannatha8'.isalpha(),'jagannatha8'.isalnum()"
   ]
  },
  {
   "cell_type": "markdown",
   "id": "0f41b687",
   "metadata": {},
   "source": [
    "#### implementation of get_level  (Self Note)\n",
    "def get_level(self,str = (super().get_password())):\n",
    "RuntimeError: super(): no arguments\n",
    "\n",
    "def get_level(self,str = self.get_password()):\n",
    "NameError: name 'self' is not defined\n"
   ]
  },
  {
   "cell_type": "code",
   "execution_count": 5,
   "id": "7df7e090",
   "metadata": {
    "scrolled": true
   },
   "outputs": [],
   "source": [
    "pw = PasswordManager()"
   ]
  },
  {
   "cell_type": "code",
   "execution_count": 6,
   "id": "3bf95a01",
   "metadata": {
    "scrolled": true
   },
   "outputs": [
    {
     "data": {
      "text/plain": [
       "['jagannatha']"
      ]
     },
     "execution_count": 6,
     "metadata": {},
     "output_type": "execute_result"
    }
   ],
   "source": [
    "pw.old_passwords"
   ]
  },
  {
   "cell_type": "code",
   "execution_count": 7,
   "id": "ab7eeb21",
   "metadata": {
    "scrolled": true
   },
   "outputs": [
    {
     "data": {
      "text/plain": [
       "'jagannatha'"
      ]
     },
     "execution_count": 7,
     "metadata": {},
     "output_type": "execute_result"
    }
   ],
   "source": [
    "pw.get_password()"
   ]
  },
  {
   "cell_type": "code",
   "execution_count": 8,
   "id": "7ea9f401",
   "metadata": {
    "scrolled": true
   },
   "outputs": [
    {
     "data": {
      "text/plain": [
       "False"
      ]
     },
     "execution_count": 8,
     "metadata": {},
     "output_type": "execute_result"
    }
   ],
   "source": [
    "pw.is_correct('kalia')"
   ]
  },
  {
   "cell_type": "code",
   "execution_count": 9,
   "id": "2ba2b169",
   "metadata": {
    "scrolled": true
   },
   "outputs": [
    {
     "name": "stdout",
     "output_type": "stream",
     "text": [
      "\n",
      "Note:The password should be of atleast 6 characters\n"
     ]
    }
   ],
   "source": [
    "pw.set_password('kalia')"
   ]
  },
  {
   "cell_type": "code",
   "execution_count": 10,
   "id": "d413a0ca",
   "metadata": {
    "scrolled": true
   },
   "outputs": [
    {
     "name": "stdout",
     "output_type": "stream",
     "text": [
      "level is 0\n",
      "level is 0\n",
      "level is 0\n",
      "\n",
      "Note:\n",
      "                As the pssword you re suggesting does not have \n",
      "                higher security level than the previous password\n",
      "                the password cannot be updated! The newer password must be \n",
      "                of greater security level than older. If the older password\n",
      "                is at highest security the new one must also be of highest\n",
      "                security level\n"
     ]
    }
   ],
   "source": [
    "pw.set_password('jagannatha')"
   ]
  },
  {
   "cell_type": "code",
   "execution_count": 11,
   "id": "26befc5d",
   "metadata": {
    "scrolled": true
   },
   "outputs": [
    {
     "name": "stdout",
     "output_type": "stream",
     "text": [
      "level is 0\n",
      "level is 0\n",
      "level is 0\n",
      "\n",
      "Note:\n",
      "                As the pssword you re suggesting does not have \n",
      "                higher security level than the previous password\n",
      "                the password cannot be updated! The newer password must be \n",
      "                of greater security level than older. If the older password\n",
      "                is at highest security the new one must also be of highest\n",
      "                security level\n"
     ]
    }
   ],
   "source": [
    "pw.set_password('9090707061')"
   ]
  },
  {
   "cell_type": "code",
   "execution_count": 12,
   "id": "244debaa",
   "metadata": {
    "scrolled": true
   },
   "outputs": [
    {
     "data": {
      "text/plain": [
       "'jagannatha'"
      ]
     },
     "execution_count": 12,
     "metadata": {},
     "output_type": "execute_result"
    }
   ],
   "source": [
    "pw.get_password()"
   ]
  },
  {
   "cell_type": "code",
   "execution_count": 13,
   "id": "c4b602fd",
   "metadata": {
    "scrolled": true
   },
   "outputs": [
    {
     "data": {
      "text/plain": [
       "False"
      ]
     },
     "execution_count": 13,
     "metadata": {},
     "output_type": "execute_result"
    }
   ],
   "source": [
    "pw.is_correct('kalia')"
   ]
  },
  {
   "cell_type": "code",
   "execution_count": 14,
   "id": "24fbb3b2",
   "metadata": {
    "scrolled": true
   },
   "outputs": [
    {
     "data": {
      "text/plain": [
       "True"
      ]
     },
     "execution_count": 14,
     "metadata": {},
     "output_type": "execute_result"
    }
   ],
   "source": [
    "pw.is_correct('jagannatha')"
   ]
  },
  {
   "cell_type": "code",
   "execution_count": 15,
   "id": "a0ac7490",
   "metadata": {
    "scrolled": true
   },
   "outputs": [
    {
     "name": "stdout",
     "output_type": "stream",
     "text": [
      "level is 0\n",
      "level is 0\n",
      "level is 0\n",
      "\n",
      "Note:\n",
      "                As the pssword you re suggesting does not have \n",
      "                higher security level than the previous password\n",
      "                the password cannot be updated! The newer password must be \n",
      "                of greater security level than older. If the older password\n",
      "                is at highest security the new one must also be of highest\n",
      "                security level\n"
     ]
    }
   ],
   "source": [
    "pw.set_password('mahaprabhu')"
   ]
  },
  {
   "cell_type": "code",
   "execution_count": 16,
   "id": "5f2b4ca0",
   "metadata": {
    "scrolled": true
   },
   "outputs": [
    {
     "name": "stdout",
     "output_type": "stream",
     "text": [
      "level is 0\n",
      "level is 0\n",
      "level is 1\n",
      "password set successfully\n"
     ]
    }
   ],
   "source": [
    "pw.set_password('jagannath@')"
   ]
  },
  {
   "cell_type": "code",
   "execution_count": 17,
   "id": "bfe8dd86",
   "metadata": {
    "scrolled": true
   },
   "outputs": [
    {
     "name": "stdout",
     "output_type": "stream",
     "text": [
      "level is 1\n",
      "level is 1\n",
      "level is 1\n",
      "\n",
      "Note:\n",
      "                As the pssword you re suggesting does not have \n",
      "                higher security level than the previous password\n",
      "                the password cannot be updated! The newer password must be \n",
      "                of greater security level than older. If the older password\n",
      "                is at highest security the new one must also be of highest\n",
      "                security level\n"
     ]
    }
   ],
   "source": [
    "pw.set_password('jagannatha8')"
   ]
  },
  {
   "cell_type": "code",
   "execution_count": 18,
   "id": "08974083",
   "metadata": {
    "scrolled": true
   },
   "outputs": [
    {
     "name": "stdout",
     "output_type": "stream",
     "text": [
      "level is 1\n",
      "level is 1\n",
      "level is 2 highest\n",
      "password set successfully\n"
     ]
    }
   ],
   "source": [
    "pw.set_password('jagannath@8')"
   ]
  },
  {
   "cell_type": "code",
   "execution_count": 19,
   "id": "0cf1f607",
   "metadata": {
    "scrolled": true
   },
   "outputs": [
    {
     "name": "stdout",
     "output_type": "stream",
     "text": [
      "level is 2 highest\n",
      "Password can only contain Alphabets, Numeric Digits and Special Characters.\n",
      "\n",
      "Note:\n",
      "                    As the older password has the highest security level \n",
      "                    the password you want to set also needs to be of the highest level\n"
     ]
    }
   ],
   "source": [
    "pw.set_password('      ')"
   ]
  },
  {
   "cell_type": "code",
   "execution_count": 20,
   "id": "fd6acbd3",
   "metadata": {
    "scrolled": true
   },
   "outputs": [
    {
     "name": "stdout",
     "output_type": "stream",
     "text": [
      "level is 2 highest\n",
      "level is 1\n",
      "\n",
      "Note:\n",
      "                    As the older password has the highest security level \n",
      "                    the password you want to set also needs to be of the highest level\n"
     ]
    }
   ],
   "source": [
    "pw.set_password('@8___________')"
   ]
  },
  {
   "cell_type": "code",
   "execution_count": 21,
   "id": "6f371c92",
   "metadata": {
    "scrolled": true
   },
   "outputs": [
    {
     "name": "stdout",
     "output_type": "stream",
     "text": [
      "level is 2 highest\n",
      "level is 1\n",
      "\n",
      "Note:\n",
      "                    As the older password has the highest security level \n",
      "                    the password you want to set also needs to be of the highest level\n"
     ]
    }
   ],
   "source": [
    "pw.set_password('jagannath@')"
   ]
  },
  {
   "cell_type": "code",
   "execution_count": 22,
   "id": "0c77280a",
   "metadata": {
    "scrolled": true
   },
   "outputs": [
    {
     "data": {
      "text/plain": [
       "True"
      ]
     },
     "execution_count": 22,
     "metadata": {},
     "output_type": "execute_result"
    }
   ],
   "source": [
    "pw.is_correct('jagannath@8')"
   ]
  },
  {
   "cell_type": "code",
   "execution_count": null,
   "id": "3bf90311",
   "metadata": {
    "scrolled": true
   },
   "outputs": [],
   "source": []
  }
 ],
 "metadata": {
  "kernelspec": {
   "display_name": "Python 3 (ipykernel)",
   "language": "python",
   "name": "python3"
  },
  "language_info": {
   "codemirror_mode": {
    "name": "ipython",
    "version": 3
   },
   "file_extension": ".py",
   "mimetype": "text/x-python",
   "name": "python",
   "nbconvert_exporter": "python",
   "pygments_lexer": "ipython3",
   "version": "3.9.7"
  }
 },
 "nbformat": 4,
 "nbformat_minor": 5
}
